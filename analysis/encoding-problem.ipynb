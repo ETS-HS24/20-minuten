{
 "cells": [
  {
   "cell_type": "code",
   "execution_count": null,
   "metadata": {},
   "outputs": [],
   "source": [
    "import pandas as pd\n",
    "import re\n",
    "\n",
    "encodings = [\"utf-8\", \"iso-8859-1\", \"windows-1252\", \"iso-8859-2\", \"utf-16le\", \"utf-16be\", \"ascii\", \"cp1252\"]\n",
    "\n",
    "for enc in encodings:\n",
    "    df = pd.read_csv(\"data/20min-test-query-2020-jan-jun/raw-data/cd558cca-53cb-4ff9-a3f5-89f70e139051__2024_10_13T18_23_54.tsv\", encoding_errors=\"ignore\", encoding=enc, sep='\\t')\n",
    "    try:\n",
    "        print(enc)\n",
    "        print(re.sub(r'[^\\x20-\\x7E]+', '', list(df[3:4][\"content\"])[0]))\n",
    "    except Exception as e:\n",
    "        print(e)\n"
   ]
  },
  {
   "cell_type": "code",
   "execution_count": null,
   "metadata": {},
   "outputs": [],
   "source": [
    "import regex as rx\n",
    "from pipeline.service import FileService\n",
    "import unicodedata\n",
    "\n",
    "def rx_fun(row):\n",
    "    print(row)\n",
    "    return rx.sub(str(row), r'\\p{C}', \"\")\n",
    "\n",
    "df = FileService.read_parquet_to_df(file_name='articles_raw')\n",
    "#df['content'] = df['content'].apply(lambda row: rx.sub(row, r'\\p{C}+', \"\"))\n",
    "#df['content'] = df['content'].apply(rx_fun)\n",
    "df['content'] = df['content'].apply(lambda row: ''.join(char for char in row if not unicodedata.category(char).startswith(\"C\")))"
   ]
  },
  {
   "cell_type": "code",
   "execution_count": null,
   "metadata": {},
   "outputs": [],
   "source": [
    "list(df[\"content\"].iloc[:5])[3]"
   ]
  }
 ],
 "metadata": {
  "kernelspec": {
   "display_name": "Python 3",
   "language": "python",
   "name": "python3"
  },
  "language_info": {
   "codemirror_mode": {
    "name": "ipython",
    "version": 3
   },
   "file_extension": ".py",
   "mimetype": "text/x-python",
   "name": "python",
   "nbconvert_exporter": "python",
   "pygments_lexer": "ipython3",
   "version": "3.12.5"
  }
 },
 "nbformat": 4,
 "nbformat_minor": 2
}
