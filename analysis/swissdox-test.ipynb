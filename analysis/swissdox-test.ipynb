{
 "cells": [
  {
   "cell_type": "code",
   "id": "initial_id",
   "metadata": {
    "collapsed": true,
    "ExecuteTime": {
     "end_time": "2024-11-14T01:20:32.136312Z",
     "start_time": "2024-11-14T01:20:26.733228Z"
    }
   },
   "source": [
    "from swissdox.Swissdox import SwissdoxAPI, SwissdoxDataset\n",
    "\n",
    "swissdox_dataset = SwissdoxDataset(dataset_name='20min-test-query-2020-jan-jun')\n",
    "swissdox_api = SwissdoxAPI()\n",
    "swissdox_api.set_api_credentials()\n",
    "swissdox_api.get_status()\n",
    "swissdox_dataset.initialize_from_api(api_client=swissdox_api, data_root_folder=\"../data\")\n",
    "swissdox_api.download_dataset(swissdox_dataset, overwrite=True)"
   ],
   "outputs": [],
   "execution_count": 6
  }
 ],
 "metadata": {
  "kernelspec": {
   "display_name": "Python 3",
   "language": "python",
   "name": "python3"
  },
  "language_info": {
   "codemirror_mode": {
    "name": "ipython",
    "version": 2
   },
   "file_extension": ".py",
   "mimetype": "text/x-python",
   "name": "python",
   "nbconvert_exporter": "python",
   "pygments_lexer": "ipython2",
   "version": "2.7.6"
  }
 },
 "nbformat": 4,
 "nbformat_minor": 5
}
