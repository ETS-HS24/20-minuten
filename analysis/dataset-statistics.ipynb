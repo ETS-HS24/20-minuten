{
 "cells": [
  {
   "cell_type": "code",
   "id": "initial_id",
   "metadata": {
    "collapsed": true,
    "ExecuteTime": {
     "end_time": "2024-11-13T15:45:37.193025Z",
     "start_time": "2024-11-13T15:45:36.869874Z"
    }
   },
   "source": [
    "import pandas as pd\n",
    "\n",
    "from pipeline.service import FileService\n",
    "\n",
    "# the first file in the raw-data folder\n",
    "file_path = '../data/2024-09-13 15:29 Test-Load-inspect dataset/raw-data/labse-three-year-optimized.tsv'\n",
    "\n",
    "dataset = FileService.read_tsv_to_df(file_path=file_path)\n",
    "\n",
    "dataset.info()\n",
    "dataset.describe(include='all')"
   ],
   "outputs": [
    {
     "ename": "UnicodeDecodeError",
     "evalue": "'utf-8' codec can't decode byte 0x80 in position 0: invalid start byte",
     "output_type": "error",
     "traceback": [
      "\u001B[0;31m---------------------------------------------------------------------------\u001B[0m",
      "\u001B[0;31mUnicodeDecodeError\u001B[0m                        Traceback (most recent call last)",
      "Cell \u001B[0;32mIn[27], line 8\u001B[0m\n\u001B[1;32m      5\u001B[0m \u001B[38;5;66;03m# the first file in the raw-data folder\u001B[39;00m\n\u001B[1;32m      6\u001B[0m file_path \u001B[38;5;241m=\u001B[39m \u001B[38;5;124m'\u001B[39m\u001B[38;5;124m../data/2024-09-13 15:29 Test-Load-inspect dataset/raw-data/labse-three-year-optimized.tsv\u001B[39m\u001B[38;5;124m'\u001B[39m\n\u001B[0;32m----> 8\u001B[0m dataset \u001B[38;5;241m=\u001B[39m \u001B[43mFileService\u001B[49m\u001B[38;5;241;43m.\u001B[39;49m\u001B[43mread_tsv_to_df\u001B[49m\u001B[43m(\u001B[49m\u001B[43mfile_path\u001B[49m\u001B[38;5;241;43m=\u001B[39;49m\u001B[43mfile_path\u001B[49m\u001B[43m)\u001B[49m\n\u001B[1;32m     10\u001B[0m dataset\u001B[38;5;241m.\u001B[39minfo()\n\u001B[1;32m     11\u001B[0m dataset\u001B[38;5;241m.\u001B[39mdescribe(include\u001B[38;5;241m=\u001B[39m\u001B[38;5;124m'\u001B[39m\u001B[38;5;124mall\u001B[39m\u001B[38;5;124m'\u001B[39m)\n",
      "File \u001B[0;32m~/git/uzh/20-minuten/pipeline/service/_file.py:42\u001B[0m, in \u001B[0;36mFileService.read_tsv_to_df\u001B[0;34m(file_path)\u001B[0m\n\u001B[1;32m     40\u001B[0m \u001B[38;5;129m@staticmethod\u001B[39m\n\u001B[1;32m     41\u001B[0m \u001B[38;5;28;01mdef\u001B[39;00m \u001B[38;5;21mread_tsv_to_df\u001B[39m(file_path: \u001B[38;5;28mstr\u001B[39m) \u001B[38;5;241m-\u001B[39m\u001B[38;5;241m>\u001B[39m pd\u001B[38;5;241m.\u001B[39mDataFrame:\n\u001B[0;32m---> 42\u001B[0m     \u001B[38;5;28;01mreturn\u001B[39;00m \u001B[43mpd\u001B[49m\u001B[38;5;241;43m.\u001B[39;49m\u001B[43mread_csv\u001B[49m\u001B[43m(\u001B[49m\u001B[43mfile_path\u001B[49m\u001B[43m,\u001B[49m\u001B[43m \u001B[49m\u001B[43msep\u001B[49m\u001B[38;5;241;43m=\u001B[39;49m\u001B[38;5;124;43m'\u001B[39;49m\u001B[38;5;130;43;01m\\t\u001B[39;49;00m\u001B[38;5;124;43m'\u001B[39;49m\u001B[43m)\u001B[49m\n",
      "File \u001B[0;32m~/git/uzh/20-minuten/.venv/lib/python3.11/site-packages/pandas/io/parsers/readers.py:1026\u001B[0m, in \u001B[0;36mread_csv\u001B[0;34m(filepath_or_buffer, sep, delimiter, header, names, index_col, usecols, dtype, engine, converters, true_values, false_values, skipinitialspace, skiprows, skipfooter, nrows, na_values, keep_default_na, na_filter, verbose, skip_blank_lines, parse_dates, infer_datetime_format, keep_date_col, date_parser, date_format, dayfirst, cache_dates, iterator, chunksize, compression, thousands, decimal, lineterminator, quotechar, quoting, doublequote, escapechar, comment, encoding, encoding_errors, dialect, on_bad_lines, delim_whitespace, low_memory, memory_map, float_precision, storage_options, dtype_backend)\u001B[0m\n\u001B[1;32m   1013\u001B[0m kwds_defaults \u001B[38;5;241m=\u001B[39m _refine_defaults_read(\n\u001B[1;32m   1014\u001B[0m     dialect,\n\u001B[1;32m   1015\u001B[0m     delimiter,\n\u001B[0;32m   (...)\u001B[0m\n\u001B[1;32m   1022\u001B[0m     dtype_backend\u001B[38;5;241m=\u001B[39mdtype_backend,\n\u001B[1;32m   1023\u001B[0m )\n\u001B[1;32m   1024\u001B[0m kwds\u001B[38;5;241m.\u001B[39mupdate(kwds_defaults)\n\u001B[0;32m-> 1026\u001B[0m \u001B[38;5;28;01mreturn\u001B[39;00m \u001B[43m_read\u001B[49m\u001B[43m(\u001B[49m\u001B[43mfilepath_or_buffer\u001B[49m\u001B[43m,\u001B[49m\u001B[43m \u001B[49m\u001B[43mkwds\u001B[49m\u001B[43m)\u001B[49m\n",
      "File \u001B[0;32m~/git/uzh/20-minuten/.venv/lib/python3.11/site-packages/pandas/io/parsers/readers.py:620\u001B[0m, in \u001B[0;36m_read\u001B[0;34m(filepath_or_buffer, kwds)\u001B[0m\n\u001B[1;32m    617\u001B[0m _validate_names(kwds\u001B[38;5;241m.\u001B[39mget(\u001B[38;5;124m\"\u001B[39m\u001B[38;5;124mnames\u001B[39m\u001B[38;5;124m\"\u001B[39m, \u001B[38;5;28;01mNone\u001B[39;00m))\n\u001B[1;32m    619\u001B[0m \u001B[38;5;66;03m# Create the parser.\u001B[39;00m\n\u001B[0;32m--> 620\u001B[0m parser \u001B[38;5;241m=\u001B[39m \u001B[43mTextFileReader\u001B[49m\u001B[43m(\u001B[49m\u001B[43mfilepath_or_buffer\u001B[49m\u001B[43m,\u001B[49m\u001B[43m \u001B[49m\u001B[38;5;241;43m*\u001B[39;49m\u001B[38;5;241;43m*\u001B[39;49m\u001B[43mkwds\u001B[49m\u001B[43m)\u001B[49m\n\u001B[1;32m    622\u001B[0m \u001B[38;5;28;01mif\u001B[39;00m chunksize \u001B[38;5;129;01mor\u001B[39;00m iterator:\n\u001B[1;32m    623\u001B[0m     \u001B[38;5;28;01mreturn\u001B[39;00m parser\n",
      "File \u001B[0;32m~/git/uzh/20-minuten/.venv/lib/python3.11/site-packages/pandas/io/parsers/readers.py:1620\u001B[0m, in \u001B[0;36mTextFileReader.__init__\u001B[0;34m(self, f, engine, **kwds)\u001B[0m\n\u001B[1;32m   1617\u001B[0m     \u001B[38;5;28mself\u001B[39m\u001B[38;5;241m.\u001B[39moptions[\u001B[38;5;124m\"\u001B[39m\u001B[38;5;124mhas_index_names\u001B[39m\u001B[38;5;124m\"\u001B[39m] \u001B[38;5;241m=\u001B[39m kwds[\u001B[38;5;124m\"\u001B[39m\u001B[38;5;124mhas_index_names\u001B[39m\u001B[38;5;124m\"\u001B[39m]\n\u001B[1;32m   1619\u001B[0m \u001B[38;5;28mself\u001B[39m\u001B[38;5;241m.\u001B[39mhandles: IOHandles \u001B[38;5;241m|\u001B[39m \u001B[38;5;28;01mNone\u001B[39;00m \u001B[38;5;241m=\u001B[39m \u001B[38;5;28;01mNone\u001B[39;00m\n\u001B[0;32m-> 1620\u001B[0m \u001B[38;5;28mself\u001B[39m\u001B[38;5;241m.\u001B[39m_engine \u001B[38;5;241m=\u001B[39m \u001B[38;5;28;43mself\u001B[39;49m\u001B[38;5;241;43m.\u001B[39;49m\u001B[43m_make_engine\u001B[49m\u001B[43m(\u001B[49m\u001B[43mf\u001B[49m\u001B[43m,\u001B[49m\u001B[43m \u001B[49m\u001B[38;5;28;43mself\u001B[39;49m\u001B[38;5;241;43m.\u001B[39;49m\u001B[43mengine\u001B[49m\u001B[43m)\u001B[49m\n",
      "File \u001B[0;32m~/git/uzh/20-minuten/.venv/lib/python3.11/site-packages/pandas/io/parsers/readers.py:1898\u001B[0m, in \u001B[0;36mTextFileReader._make_engine\u001B[0;34m(self, f, engine)\u001B[0m\n\u001B[1;32m   1895\u001B[0m     \u001B[38;5;28;01mraise\u001B[39;00m \u001B[38;5;167;01mValueError\u001B[39;00m(msg)\n\u001B[1;32m   1897\u001B[0m \u001B[38;5;28;01mtry\u001B[39;00m:\n\u001B[0;32m-> 1898\u001B[0m     \u001B[38;5;28;01mreturn\u001B[39;00m \u001B[43mmapping\u001B[49m\u001B[43m[\u001B[49m\u001B[43mengine\u001B[49m\u001B[43m]\u001B[49m\u001B[43m(\u001B[49m\u001B[43mf\u001B[49m\u001B[43m,\u001B[49m\u001B[43m \u001B[49m\u001B[38;5;241;43m*\u001B[39;49m\u001B[38;5;241;43m*\u001B[39;49m\u001B[38;5;28;43mself\u001B[39;49m\u001B[38;5;241;43m.\u001B[39;49m\u001B[43moptions\u001B[49m\u001B[43m)\u001B[49m\n\u001B[1;32m   1899\u001B[0m \u001B[38;5;28;01mexcept\u001B[39;00m \u001B[38;5;167;01mException\u001B[39;00m:\n\u001B[1;32m   1900\u001B[0m     \u001B[38;5;28;01mif\u001B[39;00m \u001B[38;5;28mself\u001B[39m\u001B[38;5;241m.\u001B[39mhandles \u001B[38;5;129;01mis\u001B[39;00m \u001B[38;5;129;01mnot\u001B[39;00m \u001B[38;5;28;01mNone\u001B[39;00m:\n",
      "File \u001B[0;32m~/git/uzh/20-minuten/.venv/lib/python3.11/site-packages/pandas/io/parsers/c_parser_wrapper.py:93\u001B[0m, in \u001B[0;36mCParserWrapper.__init__\u001B[0;34m(self, src, **kwds)\u001B[0m\n\u001B[1;32m     90\u001B[0m \u001B[38;5;28;01mif\u001B[39;00m kwds[\u001B[38;5;124m\"\u001B[39m\u001B[38;5;124mdtype_backend\u001B[39m\u001B[38;5;124m\"\u001B[39m] \u001B[38;5;241m==\u001B[39m \u001B[38;5;124m\"\u001B[39m\u001B[38;5;124mpyarrow\u001B[39m\u001B[38;5;124m\"\u001B[39m:\n\u001B[1;32m     91\u001B[0m     \u001B[38;5;66;03m# Fail here loudly instead of in cython after reading\u001B[39;00m\n\u001B[1;32m     92\u001B[0m     import_optional_dependency(\u001B[38;5;124m\"\u001B[39m\u001B[38;5;124mpyarrow\u001B[39m\u001B[38;5;124m\"\u001B[39m)\n\u001B[0;32m---> 93\u001B[0m \u001B[38;5;28mself\u001B[39m\u001B[38;5;241m.\u001B[39m_reader \u001B[38;5;241m=\u001B[39m \u001B[43mparsers\u001B[49m\u001B[38;5;241;43m.\u001B[39;49m\u001B[43mTextReader\u001B[49m\u001B[43m(\u001B[49m\u001B[43msrc\u001B[49m\u001B[43m,\u001B[49m\u001B[43m \u001B[49m\u001B[38;5;241;43m*\u001B[39;49m\u001B[38;5;241;43m*\u001B[39;49m\u001B[43mkwds\u001B[49m\u001B[43m)\u001B[49m\n\u001B[1;32m     95\u001B[0m \u001B[38;5;28mself\u001B[39m\u001B[38;5;241m.\u001B[39munnamed_cols \u001B[38;5;241m=\u001B[39m \u001B[38;5;28mself\u001B[39m\u001B[38;5;241m.\u001B[39m_reader\u001B[38;5;241m.\u001B[39munnamed_cols\n\u001B[1;32m     97\u001B[0m \u001B[38;5;66;03m# error: Cannot determine type of 'names'\u001B[39;00m\n",
      "File \u001B[0;32mparsers.pyx:574\u001B[0m, in \u001B[0;36mpandas._libs.parsers.TextReader.__cinit__\u001B[0;34m()\u001B[0m\n",
      "File \u001B[0;32mparsers.pyx:663\u001B[0m, in \u001B[0;36mpandas._libs.parsers.TextReader._get_header\u001B[0;34m()\u001B[0m\n",
      "File \u001B[0;32mparsers.pyx:874\u001B[0m, in \u001B[0;36mpandas._libs.parsers.TextReader._tokenize_rows\u001B[0;34m()\u001B[0m\n",
      "File \u001B[0;32mparsers.pyx:891\u001B[0m, in \u001B[0;36mpandas._libs.parsers.TextReader._check_tokenize_status\u001B[0;34m()\u001B[0m\n",
      "File \u001B[0;32mparsers.pyx:2053\u001B[0m, in \u001B[0;36mpandas._libs.parsers.raise_parser_error\u001B[0;34m()\u001B[0m\n",
      "\u001B[0;31mUnicodeDecodeError\u001B[0m: 'utf-8' codec can't decode byte 0x80 in position 0: invalid start byte"
     ]
    }
   ],
   "execution_count": 27
  },
  {
   "metadata": {
    "ExecuteTime": {
     "end_time": "2024-11-13T15:45:37.277367Z",
     "start_time": "2024-11-13T15:07:21.118218Z"
    }
   },
   "cell_type": "code",
   "source": "dataset",
   "id": "7f7ea7c63130a38b",
   "outputs": [
    {
     "data": {
      "text/plain": [
       "             id                 pubtime medium_code        medium_name  \\\n",
       "0      38899273  2020-02-10 08:28:00+01        ZWAO  20 minuten online   \n",
       "1      39289731  2020-04-01 16:55:00+02        ZWSO  20 minutes online   \n",
       "2      39297090  2020-04-02 12:54:31+02        ZWAO  20 minuten online   \n",
       "3      39212766  2020-03-20 21:40:00+01        ZWAO  20 minuten online   \n",
       "4      39266324  2020-03-28 20:38:00+01        ZWSO  20 minutes online   \n",
       "...         ...                     ...         ...                ...   \n",
       "23550  38678500  2020-01-13 13:35:00+01        ZWSO  20 minutes online   \n",
       "23551  38998370  2020-02-22 06:06:00+01        ZWSO  20 minutes online   \n",
       "23552  39357903  2020-04-12 11:03:00+02        ZWSO  20 minutes online   \n",
       "23553  39194583  2020-03-18 15:02:35+01        ZWSO  20 minutes online   \n",
       "23554  39816329  2020-06-15 19:28:35+02        ZWSO  20 minutes online   \n",
       "\n",
       "       rubric  regional doctype doctype_description language  char_count  \\\n",
       "0         NaN       NaN     WWE       Online medium       de         562   \n",
       "1         NaN       NaN     WWE       Online medium       fr         697   \n",
       "2         NaN       NaN     WWE       Online medium       de        2334   \n",
       "3         NaN       NaN     WWE       Online medium       de        3773   \n",
       "4         NaN       NaN     WWE       Online medium       fr        2846   \n",
       "...       ...       ...     ...                 ...      ...         ...   \n",
       "23550     NaN       NaN     WWE       Online medium       fr        1660   \n",
       "23551     NaN       NaN     WWE       Online medium       fr        2044   \n",
       "23552     NaN       NaN     WWE       Online medium       fr        1429   \n",
       "23553     NaN       NaN     WWE       Online medium       fr        1124   \n",
       "23554     NaN       NaN     WWE       Online medium       fr        4909   \n",
       "\n",
       "                           dateline  \\\n",
       "0                Singapore Airlines   \n",
       "1                            Genève   \n",
       "2          Durchsetzung der Verbote   \n",
       "3      Intermeccanica Murena 429 GT   \n",
       "4                       Coronavirus   \n",
       "...                             ...   \n",
       "23550                      Fribourg   \n",
       "23551                        Suisse   \n",
       "23552                        Valais   \n",
       "23553                   Coronavirus   \n",
       "23554             Conseil des Etats   \n",
       "\n",
       "                                                    head  subhead  \\\n",
       "0                 A380 muss wegen Orkantief durchstarten      NaN   \n",
       "1              La police interrompt la chorale au balcon      NaN   \n",
       "2            Aargauer Polizei setzt auf Live-Überwachung      NaN   \n",
       "3            Ein exzentrischer Express-Kombi aus Italien      NaN   \n",
       "4              La France commande un milliard de masques      NaN   \n",
       "...                                                  ...      ...   \n",
       "23550   La collecte de sapins de Noël à chevaux a séduit      NaN   \n",
       "23551  Affaire Crypto: la Suisse interpellée par des ...      NaN   \n",
       "23552      Accidentée, une voiture met le feu à la forêt      NaN   \n",
       "23553    Le concours Eurovision de la chanson est annulé      NaN   \n",
       "23554  Feuille de route gouvernementale rectifiée par...      NaN   \n",
       "\n",
       "                                            article_link  \\\n",
       "0      https://www.20min.ch/schweiz/zuerich/story/242...   \n",
       "1      http://www.20min.ch/ro/news/geneve/story/31051453   \n",
       "2       https://www.20min.ch/schweiz/news/story/20300676   \n",
       "3      http://www.20min.ch/motor/youngtimer/story/258...   \n",
       "4       http://www.20min.ch/ro/news/monde/story/31929765   \n",
       "...                                                  ...   \n",
       "23550  https://www.20min.ch/ro/news/romandie/story/15...   \n",
       "23551  http://www.20min.ch/ro/news/suisse/story/27869743   \n",
       "23552  http://www.20min.ch/ro/news/romandie/story/306...   \n",
       "23553  https://www.20min.ch/ro/news/monde/story/29637867   \n",
       "23554               https://www.20min.ch/fr/612043469155   \n",
       "\n",
       "                                 content_id  \\\n",
       "0      00028ac0-46af-cb40-908b-dedebaf3a9ea   \n",
       "1      00041b4b-dee5-c672-7218-3b6a9690cf4c   \n",
       "2      00052c9a-566b-b931-d1e2-30c94d187cc3   \n",
       "3      0005c8c7-18c1-5868-6bb6-e392cc4bc82b   \n",
       "4      000668c6-3800-6d53-923a-def1b319d481   \n",
       "...                                     ...   \n",
       "23550  ffe8cc26-18cd-8c02-e699-86492530552d   \n",
       "23551  ffe95c5d-0fda-3f4b-b496-780410fb1875   \n",
       "23552  ffee4610-9e0a-f485-7fe6-614d4bb5b9bc   \n",
       "23553  ffef5d86-5088-8009-8d1f-999d93e38e56   \n",
       "23554  fff0da63-cdf2-8874-3df4-f7aeb9ceb288   \n",
       "\n",
       "                                                 content  \n",
       "0      <tx><ld><p>Sturmtief Sabine wirbelt den Plan d...  \n",
       "1      <tx><ld><p>Les voisins chanteurs de la rotonde...  \n",
       "2      <tx><ld><p>Der Kanton Aargau führt im Kampf ge...  \n",
       "3      <tx><ld><p>Inmitten der anderen Automobile der...  \n",
       "4      <tx><ld><p>Le ministre de la santé Olivier Vér...  \n",
       "...                                                  ...  \n",
       "23550  <tx><ld><p>La collecte de sapins de Noël a été...  \n",
       "23551  <tx><ld><p>Un porte-parole du Département fédé...  \n",
       "23552  <tx><ld><p>L'incendie d'un véhicule s'est prop...  \n",
       "23553  <tx><ld><p>Comme l'épidémie de Covid-19 se pou...  \n",
       "23554  <tx><ld><p>Tandis que certains ont critiqué le...  \n",
       "\n",
       "[23555 rows x 16 columns]"
      ],
      "text/html": [
       "<div>\n",
       "<style scoped>\n",
       "    .dataframe tbody tr th:only-of-type {\n",
       "        vertical-align: middle;\n",
       "    }\n",
       "\n",
       "    .dataframe tbody tr th {\n",
       "        vertical-align: top;\n",
       "    }\n",
       "\n",
       "    .dataframe thead th {\n",
       "        text-align: right;\n",
       "    }\n",
       "</style>\n",
       "<table border=\"1\" class=\"dataframe\">\n",
       "  <thead>\n",
       "    <tr style=\"text-align: right;\">\n",
       "      <th></th>\n",
       "      <th>id</th>\n",
       "      <th>pubtime</th>\n",
       "      <th>medium_code</th>\n",
       "      <th>medium_name</th>\n",
       "      <th>rubric</th>\n",
       "      <th>regional</th>\n",
       "      <th>doctype</th>\n",
       "      <th>doctype_description</th>\n",
       "      <th>language</th>\n",
       "      <th>char_count</th>\n",
       "      <th>dateline</th>\n",
       "      <th>head</th>\n",
       "      <th>subhead</th>\n",
       "      <th>article_link</th>\n",
       "      <th>content_id</th>\n",
       "      <th>content</th>\n",
       "    </tr>\n",
       "  </thead>\n",
       "  <tbody>\n",
       "    <tr>\n",
       "      <th>0</th>\n",
       "      <td>38899273</td>\n",
       "      <td>2020-02-10 08:28:00+01</td>\n",
       "      <td>ZWAO</td>\n",
       "      <td>20 minuten online</td>\n",
       "      <td>NaN</td>\n",
       "      <td>NaN</td>\n",
       "      <td>WWE</td>\n",
       "      <td>Online medium</td>\n",
       "      <td>de</td>\n",
       "      <td>562</td>\n",
       "      <td>Singapore Airlines</td>\n",
       "      <td>A380 muss wegen Orkantief durchstarten</td>\n",
       "      <td>NaN</td>\n",
       "      <td>https://www.20min.ch/schweiz/zuerich/story/242...</td>\n",
       "      <td>00028ac0-46af-cb40-908b-dedebaf3a9ea</td>\n",
       "      <td>&lt;tx&gt;&lt;ld&gt;&lt;p&gt;Sturmtief Sabine wirbelt den Plan d...</td>\n",
       "    </tr>\n",
       "    <tr>\n",
       "      <th>1</th>\n",
       "      <td>39289731</td>\n",
       "      <td>2020-04-01 16:55:00+02</td>\n",
       "      <td>ZWSO</td>\n",
       "      <td>20 minutes online</td>\n",
       "      <td>NaN</td>\n",
       "      <td>NaN</td>\n",
       "      <td>WWE</td>\n",
       "      <td>Online medium</td>\n",
       "      <td>fr</td>\n",
       "      <td>697</td>\n",
       "      <td>Genève</td>\n",
       "      <td>La police interrompt la chorale au balcon</td>\n",
       "      <td>NaN</td>\n",
       "      <td>http://www.20min.ch/ro/news/geneve/story/31051453</td>\n",
       "      <td>00041b4b-dee5-c672-7218-3b6a9690cf4c</td>\n",
       "      <td>&lt;tx&gt;&lt;ld&gt;&lt;p&gt;Les voisins chanteurs de la rotonde...</td>\n",
       "    </tr>\n",
       "    <tr>\n",
       "      <th>2</th>\n",
       "      <td>39297090</td>\n",
       "      <td>2020-04-02 12:54:31+02</td>\n",
       "      <td>ZWAO</td>\n",
       "      <td>20 minuten online</td>\n",
       "      <td>NaN</td>\n",
       "      <td>NaN</td>\n",
       "      <td>WWE</td>\n",
       "      <td>Online medium</td>\n",
       "      <td>de</td>\n",
       "      <td>2334</td>\n",
       "      <td>Durchsetzung der Verbote</td>\n",
       "      <td>Aargauer Polizei setzt auf Live-Überwachung</td>\n",
       "      <td>NaN</td>\n",
       "      <td>https://www.20min.ch/schweiz/news/story/20300676</td>\n",
       "      <td>00052c9a-566b-b931-d1e2-30c94d187cc3</td>\n",
       "      <td>&lt;tx&gt;&lt;ld&gt;&lt;p&gt;Der Kanton Aargau führt im Kampf ge...</td>\n",
       "    </tr>\n",
       "    <tr>\n",
       "      <th>3</th>\n",
       "      <td>39212766</td>\n",
       "      <td>2020-03-20 21:40:00+01</td>\n",
       "      <td>ZWAO</td>\n",
       "      <td>20 minuten online</td>\n",
       "      <td>NaN</td>\n",
       "      <td>NaN</td>\n",
       "      <td>WWE</td>\n",
       "      <td>Online medium</td>\n",
       "      <td>de</td>\n",
       "      <td>3773</td>\n",
       "      <td>Intermeccanica Murena 429 GT</td>\n",
       "      <td>Ein exzentrischer Express-Kombi aus Italien</td>\n",
       "      <td>NaN</td>\n",
       "      <td>http://www.20min.ch/motor/youngtimer/story/258...</td>\n",
       "      <td>0005c8c7-18c1-5868-6bb6-e392cc4bc82b</td>\n",
       "      <td>&lt;tx&gt;&lt;ld&gt;&lt;p&gt;Inmitten der anderen Automobile der...</td>\n",
       "    </tr>\n",
       "    <tr>\n",
       "      <th>4</th>\n",
       "      <td>39266324</td>\n",
       "      <td>2020-03-28 20:38:00+01</td>\n",
       "      <td>ZWSO</td>\n",
       "      <td>20 minutes online</td>\n",
       "      <td>NaN</td>\n",
       "      <td>NaN</td>\n",
       "      <td>WWE</td>\n",
       "      <td>Online medium</td>\n",
       "      <td>fr</td>\n",
       "      <td>2846</td>\n",
       "      <td>Coronavirus</td>\n",
       "      <td>La France commande un milliard de masques</td>\n",
       "      <td>NaN</td>\n",
       "      <td>http://www.20min.ch/ro/news/monde/story/31929765</td>\n",
       "      <td>000668c6-3800-6d53-923a-def1b319d481</td>\n",
       "      <td>&lt;tx&gt;&lt;ld&gt;&lt;p&gt;Le ministre de la santé Olivier Vér...</td>\n",
       "    </tr>\n",
       "    <tr>\n",
       "      <th>...</th>\n",
       "      <td>...</td>\n",
       "      <td>...</td>\n",
       "      <td>...</td>\n",
       "      <td>...</td>\n",
       "      <td>...</td>\n",
       "      <td>...</td>\n",
       "      <td>...</td>\n",
       "      <td>...</td>\n",
       "      <td>...</td>\n",
       "      <td>...</td>\n",
       "      <td>...</td>\n",
       "      <td>...</td>\n",
       "      <td>...</td>\n",
       "      <td>...</td>\n",
       "      <td>...</td>\n",
       "      <td>...</td>\n",
       "    </tr>\n",
       "    <tr>\n",
       "      <th>23550</th>\n",
       "      <td>38678500</td>\n",
       "      <td>2020-01-13 13:35:00+01</td>\n",
       "      <td>ZWSO</td>\n",
       "      <td>20 minutes online</td>\n",
       "      <td>NaN</td>\n",
       "      <td>NaN</td>\n",
       "      <td>WWE</td>\n",
       "      <td>Online medium</td>\n",
       "      <td>fr</td>\n",
       "      <td>1660</td>\n",
       "      <td>Fribourg</td>\n",
       "      <td>La collecte de sapins de Noël à chevaux a séduit</td>\n",
       "      <td>NaN</td>\n",
       "      <td>https://www.20min.ch/ro/news/romandie/story/15...</td>\n",
       "      <td>ffe8cc26-18cd-8c02-e699-86492530552d</td>\n",
       "      <td>&lt;tx&gt;&lt;ld&gt;&lt;p&gt;La collecte de sapins de Noël a été...</td>\n",
       "    </tr>\n",
       "    <tr>\n",
       "      <th>23551</th>\n",
       "      <td>38998370</td>\n",
       "      <td>2020-02-22 06:06:00+01</td>\n",
       "      <td>ZWSO</td>\n",
       "      <td>20 minutes online</td>\n",
       "      <td>NaN</td>\n",
       "      <td>NaN</td>\n",
       "      <td>WWE</td>\n",
       "      <td>Online medium</td>\n",
       "      <td>fr</td>\n",
       "      <td>2044</td>\n",
       "      <td>Suisse</td>\n",
       "      <td>Affaire Crypto: la Suisse interpellée par des ...</td>\n",
       "      <td>NaN</td>\n",
       "      <td>http://www.20min.ch/ro/news/suisse/story/27869743</td>\n",
       "      <td>ffe95c5d-0fda-3f4b-b496-780410fb1875</td>\n",
       "      <td>&lt;tx&gt;&lt;ld&gt;&lt;p&gt;Un porte-parole du Département fédé...</td>\n",
       "    </tr>\n",
       "    <tr>\n",
       "      <th>23552</th>\n",
       "      <td>39357903</td>\n",
       "      <td>2020-04-12 11:03:00+02</td>\n",
       "      <td>ZWSO</td>\n",
       "      <td>20 minutes online</td>\n",
       "      <td>NaN</td>\n",
       "      <td>NaN</td>\n",
       "      <td>WWE</td>\n",
       "      <td>Online medium</td>\n",
       "      <td>fr</td>\n",
       "      <td>1429</td>\n",
       "      <td>Valais</td>\n",
       "      <td>Accidentée, une voiture met le feu à la forêt</td>\n",
       "      <td>NaN</td>\n",
       "      <td>http://www.20min.ch/ro/news/romandie/story/306...</td>\n",
       "      <td>ffee4610-9e0a-f485-7fe6-614d4bb5b9bc</td>\n",
       "      <td>&lt;tx&gt;&lt;ld&gt;&lt;p&gt;L'incendie d'un véhicule s'est prop...</td>\n",
       "    </tr>\n",
       "    <tr>\n",
       "      <th>23553</th>\n",
       "      <td>39194583</td>\n",
       "      <td>2020-03-18 15:02:35+01</td>\n",
       "      <td>ZWSO</td>\n",
       "      <td>20 minutes online</td>\n",
       "      <td>NaN</td>\n",
       "      <td>NaN</td>\n",
       "      <td>WWE</td>\n",
       "      <td>Online medium</td>\n",
       "      <td>fr</td>\n",
       "      <td>1124</td>\n",
       "      <td>Coronavirus</td>\n",
       "      <td>Le concours Eurovision de la chanson est annulé</td>\n",
       "      <td>NaN</td>\n",
       "      <td>https://www.20min.ch/ro/news/monde/story/29637867</td>\n",
       "      <td>ffef5d86-5088-8009-8d1f-999d93e38e56</td>\n",
       "      <td>&lt;tx&gt;&lt;ld&gt;&lt;p&gt;Comme l'épidémie de Covid-19 se pou...</td>\n",
       "    </tr>\n",
       "    <tr>\n",
       "      <th>23554</th>\n",
       "      <td>39816329</td>\n",
       "      <td>2020-06-15 19:28:35+02</td>\n",
       "      <td>ZWSO</td>\n",
       "      <td>20 minutes online</td>\n",
       "      <td>NaN</td>\n",
       "      <td>NaN</td>\n",
       "      <td>WWE</td>\n",
       "      <td>Online medium</td>\n",
       "      <td>fr</td>\n",
       "      <td>4909</td>\n",
       "      <td>Conseil des Etats</td>\n",
       "      <td>Feuille de route gouvernementale rectifiée par...</td>\n",
       "      <td>NaN</td>\n",
       "      <td>https://www.20min.ch/fr/612043469155</td>\n",
       "      <td>fff0da63-cdf2-8874-3df4-f7aeb9ceb288</td>\n",
       "      <td>&lt;tx&gt;&lt;ld&gt;&lt;p&gt;Tandis que certains ont critiqué le...</td>\n",
       "    </tr>\n",
       "  </tbody>\n",
       "</table>\n",
       "<p>23555 rows × 16 columns</p>\n",
       "</div>"
      ]
     },
     "execution_count": 2,
     "metadata": {},
     "output_type": "execute_result"
    }
   ],
   "execution_count": 2
  },
  {
   "metadata": {
    "ExecuteTime": {
     "end_time": "2024-11-13T15:45:37.286164Z",
     "start_time": "2024-11-13T15:07:21.149952Z"
    }
   },
   "cell_type": "code",
   "source": [
    "########## Date range #########\n",
    "dataset['pubtime'] = pd.to_datetime(dataset['pubtime'], utc=True)\n",
    "date_range = (dataset['pubtime'].min(), dataset['pubtime'].max())\n",
    "date_range_formatted = f\"{dataset['pubtime'].min().strftime('%Y-%m-%d')} - {dataset['pubtime'].max().strftime('%Y-%m-%d')}\"\n",
    "\n",
    "date_range_formatted"
   ],
   "id": "740b0e015049a9b3",
   "outputs": [
    {
     "data": {
      "text/plain": [
       "'2020-01-01 - 2020-06-30'"
      ]
     },
     "execution_count": 3,
     "metadata": {},
     "output_type": "execute_result"
    }
   ],
   "execution_count": 3
  },
  {
   "metadata": {
    "ExecuteTime": {
     "end_time": "2024-11-13T15:45:37.286364Z",
     "start_time": "2024-11-13T15:07:21.260833Z"
    }
   },
   "cell_type": "code",
   "source": [
    "##### Articles per month ######\n",
    "articles_per_month = dataset['pubtime'].dt.to_period('M').value_counts().sort_index()\n",
    "\n",
    "articles_per_month"
   ],
   "id": "f191026fd0b0f0a0",
   "outputs": [
    {
     "name": "stderr",
     "output_type": "stream",
     "text": [
      "/var/folders/h7/fxdx1q0j1mv0gdt_m2xm54jc0000gn/T/ipykernel_55975/1427310849.py:2: UserWarning: Converting to PeriodArray/Index representation will drop timezone information.\n",
      "  articles_per_month = dataset['pubtime'].dt.to_period('M').value_counts().sort_index()\n"
     ]
    },
    {
     "data": {
      "text/plain": [
       "pubtime\n",
       "2020-01    5740\n",
       "2020-02    5320\n",
       "2020-03    4894\n",
       "2020-04    4216\n",
       "2020-05     559\n",
       "2020-06    2826\n",
       "Freq: M, Name: count, dtype: int64"
      ]
     },
     "execution_count": 4,
     "metadata": {},
     "output_type": "execute_result"
    }
   ],
   "execution_count": 4
  },
  {
   "metadata": {
    "ExecuteTime": {
     "end_time": "2024-11-13T15:45:37.286443Z",
     "start_time": "2024-11-13T15:07:21.298251Z"
    }
   },
   "cell_type": "code",
   "source": "int(articles_per_month.mean())",
   "id": "1c6f33df857fa465",
   "outputs": [
    {
     "data": {
      "text/plain": [
       "3925"
      ]
     },
     "execution_count": 5,
     "metadata": {},
     "output_type": "execute_result"
    }
   ],
   "execution_count": 5
  },
  {
   "metadata": {
    "ExecuteTime": {
     "end_time": "2024-11-13T15:45:37.286502Z",
     "start_time": "2024-11-13T15:07:21.346288Z"
    }
   },
   "cell_type": "code",
   "source": [
    "total_articles = len(dataset)\n",
    "\n",
    "language_counts = dataset[\"language\"].value_counts()\n",
    "\n",
    "language_ratio = language_counts / total_articles\n",
    "\n",
    "language_counts.to_dict()\n",
    "language_ratio.to_dict()"
   ],
   "id": "7d70ee4d8bcce8cf",
   "outputs": [
    {
     "data": {
      "text/plain": [
       "{'fr': 0.6585013797495224, 'de': 0.3414986202504776}"
      ]
     },
     "execution_count": 6,
     "metadata": {},
     "output_type": "execute_result"
    }
   ],
   "execution_count": 6
  },
  {
   "metadata": {
    "ExecuteTime": {
     "end_time": "2024-11-13T15:45:37.292925Z",
     "start_time": "2024-11-13T15:07:21.372714Z"
    }
   },
   "cell_type": "code",
   "source": [
    "import numpy as np\n",
    "# Calculate word count statistics\n",
    "word_count_stats = {\n",
    " 'mean': dataset['char_count'].mean(),\n",
    " 'median': dataset['char_count'].median(),\n",
    " 'range': (dataset['char_count'].min(), dataset['char_count'].max())\n",
    "}\n",
    "word_count_stats\n"
   ],
   "id": "6211418b61939e99",
   "outputs": [
    {
     "data": {
      "text/plain": [
       "{'mean': 2428.6164296327743, 'median': 2129.0, 'range': (164, 42844)}"
      ]
     },
     "execution_count": 7,
     "metadata": {},
     "output_type": "execute_result"
    }
   ],
   "execution_count": 7
  },
  {
   "metadata": {
    "ExecuteTime": {
     "end_time": "2024-11-13T15:45:37.293100Z",
     "start_time": "2024-11-13T15:07:21.400239Z"
    }
   },
   "cell_type": "code",
   "source": [
    "# Distribution of articles by word count range\n",
    "bins = [0, 500, 1000, 1500, np.inf]\n",
    "labels = ['<500', '500-1000', '1000-1500', '>1500']\n",
    "dataset['word_count_category'] = pd.cut(dataset['char_count'], bins=bins, labels=labels)\n",
    "word_count_distribution = dataset['word_count_category'].value_counts()\n",
    "word_count_distribution"
   ],
   "id": "8c51ff6e7b233270",
   "outputs": [
    {
     "data": {
      "text/plain": [
       "word_count_category\n",
       ">1500        17137\n",
       "1000-1500     3796\n",
       "500-1000      2452\n",
       "<500           170\n",
       "Name: count, dtype: int64"
      ]
     },
     "execution_count": 8,
     "metadata": {},
     "output_type": "execute_result"
    }
   ],
   "execution_count": 8
  },
  {
   "metadata": {
    "ExecuteTime": {
     "end_time": "2024-11-13T15:45:37.293166Z",
     "start_time": "2024-11-13T15:07:21.501440Z"
    }
   },
   "cell_type": "code",
   "source": [
    "table_one = {\n",
    "    \"Publication date range\": date_range_formatted,\n",
    "    \"Number of articles\": total_articles,\n",
    "    \"German\": str(language_counts['de']) + ' - ' + f\"{language_ratio['de'] * 100:.2f}%\",\n",
    "    \"French\": str(language_counts['fr']) + ' - ' + f\"{language_ratio['fr'] * 100:.2f}%\",\n",
    "    \"Content statistics\" : {\n",
    "        \"Mean # of words\": int(word_count_stats['mean']),\n",
    "        \"Median # of words\" : int(word_count_stats['median']),\n",
    "        \"Min # of words\": word_count_stats['range'][0],\n",
    "        \"Max # of words\": word_count_stats['range'][1]\n",
    "    },\n",
    "    \"Word count distribution\": word_count_distribution.to_dict()\n",
    "}\n",
    "\n",
    "table_one"
   ],
   "id": "d23d02105f7de838",
   "outputs": [
    {
     "data": {
      "text/plain": [
       "{'Publication date range': '2020-01-01 - 2020-06-30',\n",
       " 'Number of articles': 23555,\n",
       " 'German': '8044 - 34.15%',\n",
       " 'French': '15511 - 65.85%',\n",
       " 'Content statistics': {'Mean # of words': 2428,\n",
       "  'Median # of words': 2129,\n",
       "  'Min # of words': 164,\n",
       "  'Max # of words': 42844},\n",
       " 'Word count distribution': {'>1500': 17137,\n",
       "  '1000-1500': 3796,\n",
       "  '500-1000': 2452,\n",
       "  '<500': 170}}"
      ]
     },
     "execution_count": 9,
     "metadata": {},
     "output_type": "execute_result"
    }
   ],
   "execution_count": 9
  },
  {
   "metadata": {
    "ExecuteTime": {
     "end_time": "2024-11-13T15:45:37.293240Z",
     "start_time": "2024-11-13T15:12:02.680826Z"
    }
   },
   "cell_type": "code",
   "source": [
    "######## formatting ############\n",
    "content_stats_df = pd.DataFrame.from_dict(table_one[\"Content statistics\"], orient='index', columns=['Value'])\n",
    "word_count_dist_df = pd.DataFrame.from_dict(table_one[\"Word count distribution\"], orient='index', columns=['Count'])"
   ],
   "id": "fc092f1769b767cc",
   "outputs": [],
   "execution_count": 11
  },
  {
   "metadata": {
    "ExecuteTime": {
     "end_time": "2024-11-13T15:45:37.293269Z",
     "start_time": "2024-11-13T15:07:21.677835Z"
    }
   },
   "cell_type": "code",
   "source": [
    "########## CONVERT TO HTML ##################\n",
    "content_stats_html = content_stats_df.to_html(header=False).replace('\\n', '').replace('  ', '')\n",
    "word_count_dist_html = word_count_dist_df.to_html(header=False).replace('\\n', '').replace('  ', '')\n",
    "\n",
    "main_data = {\n",
    "    \"Publication date range\": [table_one[\"Publication date range\"]],\n",
    "    \"Number of articles\": [table_one[\"Number of articles\"]],\n",
    "    \"German\": [table_one[\"German\"]],\n",
    "    \"French\": [table_one[\"French\"]],\n",
    "    \"Content statistics\": [content_stats_html],\n",
    "    \"Word count distribution\": [word_count_dist_html]\n",
    "}\n",
    "\n",
    "main_df = pd.DataFrame(main_data)\n",
    "transposed_df = main_df.transpose()\n",
    "\n",
    "html_table = transposed_df.to_html(escape=False, header=False)\n",
    "html_table = html_table.replace(\"\\n\", '')\n",
    "\n",
    "with open('table_one.html', 'w') as file:\n",
    "    file.write(html_table)"
   ],
   "id": "69e565b54989c11",
   "outputs": [],
   "execution_count": 10
  },
  {
   "metadata": {
    "ExecuteTime": {
     "end_time": "2024-11-13T15:45:37.293297Z",
     "start_time": "2024-11-13T15:36:00.284996Z"
    }
   },
   "cell_type": "code",
   "source": [
    "################# CONVERT TO LATEX #############\n",
    "main_data = {\n",
    "    \"Publication date range\": [table_one[\"Publication date range\"]],\n",
    "    \"Number of articles\": [table_one[\"Number of articles\"]],\n",
    "    \"German\": [table_one[\"German\"].replace(\"%\", \"\\\\%\")],\n",
    "    \"French\": [table_one[\"French\"].replace(\"%\", \"\\\\%\")],\n",
    "    \"Content statistics\": [content_stats_df.to_latex(header=False, index=True)],\n",
    "    \"Word count distribution\": [word_count_dist_df.to_latex(header=False, index=True)]\n",
    "}\n",
    "\n",
    "main_df = pd.DataFrame(main_data)\n",
    "transposed_df = main_df.transpose()\n",
    "\n",
    "latex_table = transposed_df.to_latex(escape=False, header=False, column_format='|l|r|', bold_rows=True, label='Table 1: dataset statistics')\n",
    "latex_table = latex_table.replace('#', '\\\\#')\n",
    "\n",
    "# Save the LaTeX table to a file\n",
    "with open('table_one.tex', 'w') as file:\n",
    "    file.write(latex_table)"
   ],
   "id": "a9801086f54edc72",
   "outputs": [],
   "execution_count": 26
  }
 ],
 "metadata": {
  "kernelspec": {
   "display_name": "Python 3",
   "language": "python",
   "name": "python3"
  },
  "language_info": {
   "codemirror_mode": {
    "name": "ipython",
    "version": 2
   },
   "file_extension": ".py",
   "mimetype": "text/x-python",
   "name": "python",
   "nbconvert_exporter": "python",
   "pygments_lexer": "ipython2",
   "version": "2.7.6"
  }
 },
 "nbformat": 4,
 "nbformat_minor": 5
}
