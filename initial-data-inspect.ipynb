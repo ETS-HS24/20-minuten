{
 "cells": [
  {
   "cell_type": "code",
   "metadata": {
    "ExecuteTime": {
     "end_time": "2024-10-13T11:22:50.196095Z",
     "start_time": "2024-10-13T11:22:50.183810Z"
    }
   },
   "source": [
    "raw_data_path = \"../data/2024-09-13 15:29 Test-Load-inspect dataset/raw-data/\"\n",
    "raw_file_name = \"6016265a-9a90-46b5-a732-ce6ba7e87340__2024_09_13T15_30_40.tsv\"\n",
    "intermediate_data_path = \"../data/2024-09-13 15:29 Test-Load-inspect dataset/intermediate-data/\""
   ],
   "outputs": [],
   "execution_count": 1
  },
  {
   "cell_type": "code",
   "metadata": {
    "ExecuteTime": {
     "end_time": "2024-10-13T11:22:51.066891Z",
     "start_time": "2024-10-13T11:22:50.199109Z"
    }
   },
   "source": [
    "import pandas as pd\n",
    "import os\n",
    "from pathlib import Path"
   ],
   "outputs": [],
   "execution_count": 2
  },
  {
   "cell_type": "code",
   "metadata": {
    "ExecuteTime": {
     "end_time": "2024-10-13T11:22:52.012251Z",
     "start_time": "2024-10-13T11:22:51.067903Z"
    }
   },
   "source": [
    "with open(os.path.join(raw_data_path, raw_file_name)) as file:\n",
    "    raw_file = file.readlines()\n",
    "\n",
    "print(raw_file[0])\n",
    "print(raw_file[1].replace(\"\\t\", \" <tab> \"))"
   ],
   "outputs": [
    {
     "ename": "OSError",
     "evalue": "[Errno 22] Invalid argument: '../data/2024-09-13 15:29 Test-Load-inspect dataset/raw-data/6016265a-9a90-46b5-a732-ce6ba7e87340__2024_09_13T15_30_40.tsv'",
     "output_type": "error",
     "traceback": [
      "\u001B[1;31m---------------------------------------------------------------------------\u001B[0m",
      "\u001B[1;31mOSError\u001B[0m                                   Traceback (most recent call last)",
      "Cell \u001B[1;32mIn[3], line 1\u001B[0m\n\u001B[1;32m----> 1\u001B[0m \u001B[38;5;28;01mwith\u001B[39;00m \u001B[38;5;28mopen\u001B[39m(os\u001B[38;5;241m.\u001B[39mpath\u001B[38;5;241m.\u001B[39mjoin(raw_data_path, raw_file_name)) \u001B[38;5;28;01mas\u001B[39;00m file:\n\u001B[0;32m      2\u001B[0m     raw_file \u001B[38;5;241m=\u001B[39m file\u001B[38;5;241m.\u001B[39mreadlines()\n\u001B[0;32m      4\u001B[0m \u001B[38;5;28mprint\u001B[39m(raw_file[\u001B[38;5;241m0\u001B[39m])\n",
      "File \u001B[1;32m~\\anaconda3\\Lib\\site-packages\\IPython\\core\\interactiveshell.py:284\u001B[0m, in \u001B[0;36m_modified_open\u001B[1;34m(file, *args, **kwargs)\u001B[0m\n\u001B[0;32m    277\u001B[0m \u001B[38;5;28;01mif\u001B[39;00m file \u001B[38;5;129;01min\u001B[39;00m {\u001B[38;5;241m0\u001B[39m, \u001B[38;5;241m1\u001B[39m, \u001B[38;5;241m2\u001B[39m}:\n\u001B[0;32m    278\u001B[0m     \u001B[38;5;28;01mraise\u001B[39;00m \u001B[38;5;167;01mValueError\u001B[39;00m(\n\u001B[0;32m    279\u001B[0m         \u001B[38;5;124mf\u001B[39m\u001B[38;5;124m\"\u001B[39m\u001B[38;5;124mIPython won\u001B[39m\u001B[38;5;124m'\u001B[39m\u001B[38;5;124mt let you open fd=\u001B[39m\u001B[38;5;132;01m{\u001B[39;00mfile\u001B[38;5;132;01m}\u001B[39;00m\u001B[38;5;124m by default \u001B[39m\u001B[38;5;124m\"\u001B[39m\n\u001B[0;32m    280\u001B[0m         \u001B[38;5;124m\"\u001B[39m\u001B[38;5;124mas it is likely to crash IPython. If you know what you are doing, \u001B[39m\u001B[38;5;124m\"\u001B[39m\n\u001B[0;32m    281\u001B[0m         \u001B[38;5;124m\"\u001B[39m\u001B[38;5;124myou can use builtins\u001B[39m\u001B[38;5;124m'\u001B[39m\u001B[38;5;124m open.\u001B[39m\u001B[38;5;124m\"\u001B[39m\n\u001B[0;32m    282\u001B[0m     )\n\u001B[1;32m--> 284\u001B[0m \u001B[38;5;28;01mreturn\u001B[39;00m io_open(file, \u001B[38;5;241m*\u001B[39margs, \u001B[38;5;241m*\u001B[39m\u001B[38;5;241m*\u001B[39mkwargs)\n",
      "\u001B[1;31mOSError\u001B[0m: [Errno 22] Invalid argument: '../data/2024-09-13 15:29 Test-Load-inspect dataset/raw-data/6016265a-9a90-46b5-a732-ce6ba7e87340__2024_09_13T15_30_40.tsv'"
     ]
    }
   ],
   "execution_count": 3
  },
  {
   "cell_type": "code",
   "execution_count": 10,
   "metadata": {},
   "outputs": [
    {
     "name": "stdout",
     "output_type": "stream",
     "text": [
      "(23555, 16)\n",
      "                                                                     0\n",
      "id                                                            38899273\n",
      "pubtime                                         2020-02-10 08:28:00+01\n",
      "medium_code                                                       ZWAO\n",
      "medium_name                                          20 minuten online\n",
      "rubric                                                             NaN\n",
      "regional                                                           NaN\n",
      "doctype                                                            WWE\n",
      "doctype_description                                      Online medium\n",
      "language                                                            de\n",
      "char_count                                                         562\n",
      "dateline                                            Singapore Airlines\n",
      "head                            A380 muss wegen Orkantief durchstarten\n",
      "subhead                                                            NaN\n",
      "article_link         https://www.20min.ch/schweiz/zuerich/story/242...\n",
      "content_id                        00028ac0-46af-cb40-908b-dedebaf3a9ea\n",
      "content              <tx><ld><p>Sturmtief Sabine wirbelt den Plan d...\n"
     ]
    }
   ],
   "source": [
    "df = pd.read_csv(os.path.join(raw_data_path, raw_file_name), sep=\"\\t\")\n",
    "print(df.shape)\n",
    "print(df.head(1).transpose())"
   ]
  },
  {
   "cell_type": "code",
   "execution_count": 13,
   "metadata": {},
   "outputs": [
    {
     "name": "stdout",
     "output_type": "stream",
     "text": [
      "<class 'pandas.core.frame.DataFrame'>\n",
      "RangeIndex: 23555 entries, 0 to 23554\n",
      "Data columns (total 16 columns):\n",
      " #   Column               Non-Null Count  Dtype  \n",
      "---  ------               --------------  -----  \n",
      " 0   id                   23555 non-null  int64  \n",
      " 1   pubtime              23555 non-null  object \n",
      " 2   medium_code          23555 non-null  object \n",
      " 3   medium_name          23555 non-null  object \n",
      " 4   rubric               0 non-null      float64\n",
      " 5   regional             0 non-null      float64\n",
      " 6   doctype              23555 non-null  object \n",
      " 7   doctype_description  23555 non-null  object \n",
      " 8   language             23555 non-null  object \n",
      " 9   char_count           23555 non-null  int64  \n",
      " 10  dateline             23267 non-null  object \n",
      " 11  head                 23555 non-null  object \n",
      " 12  subhead              0 non-null      float64\n",
      " 13  article_link         23554 non-null  object \n",
      " 14  content_id           23555 non-null  object \n",
      " 15  content              23555 non-null  object \n",
      "dtypes: float64(3), int64(2), object(11)\n",
      "memory usage: 2.9+ MB\n",
      "None\n"
     ]
    }
   ],
   "source": [
    "print(df.info())"
   ]
  },
  {
   "cell_type": "code",
   "execution_count": 23,
   "metadata": {},
   "outputs": [
    {
     "data": {
      "text/plain": [
       "(23555, 13)"
      ]
     },
     "execution_count": 23,
     "metadata": {},
     "output_type": "execute_result"
    }
   ],
   "source": [
    "drop_nan_columns = [\"rubric\", \"regional\", \"subhead\"]\n",
    "df = df.drop(drop_nan_columns, axis=1)\n",
    "df.shape"
   ]
  },
  {
   "cell_type": "code",
   "execution_count": null,
   "metadata": {},
   "outputs": [],
   "source": []
  }
 ],
 "metadata": {
  "kernelspec": {
   "display_name": "Python 3",
   "language": "python",
   "name": "python3"
  },
  "language_info": {
   "codemirror_mode": {
    "name": "ipython",
    "version": 3
   },
   "file_extension": ".py",
   "mimetype": "text/x-python",
   "name": "python",
   "nbconvert_exporter": "python",
   "pygments_lexer": "ipython3",
   "version": "3.12.6"
  }
 },
 "nbformat": 4,
 "nbformat_minor": 2
}
