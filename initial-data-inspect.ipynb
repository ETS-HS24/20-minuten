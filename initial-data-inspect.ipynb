{
 "cells": [
  {
   "cell_type": "code",
   "metadata": {
    "ExecuteTime": {
     "end_time": "2024-10-16T14:39:16.897355Z",
     "start_time": "2024-10-16T14:39:16.889139Z"
    }
   },
   "source": [
    "raw_data_path = \"../data/20min-test-query-2020-jan-jun/raw-data/\"\n",
    "raw_file_name = \"cd558cca-53cb-4ff9-a3f5-89f70e139051__2024_10_13T18_23_54.tsv\"\n",
    "intermediate_data_path = \"../data/20min-test-query-2020-jan-jun/intermediate-data/\""
   ],
   "outputs": [],
   "execution_count": 1
  },
  {
   "cell_type": "code",
   "metadata": {
    "ExecuteTime": {
     "end_time": "2024-10-16T14:39:18.404541Z",
     "start_time": "2024-10-16T14:39:17.608308Z"
    }
   },
   "source": [
    "import pandas as pd\n",
    "import os\n",
    "from pathlib import Path"
   ],
   "outputs": [],
   "execution_count": 2
  },
  {
   "cell_type": "code",
   "metadata": {
    "ExecuteTime": {
     "end_time": "2024-10-16T14:39:20.769144Z",
     "start_time": "2024-10-16T14:39:19.383370Z"
    }
   },
   "source": [
    "with open(os.path.join(raw_data_path, raw_file_name)) as file:\n",
    "    raw_file = file.readlines()\n",
    "\n",
    "print(raw_file[0])\n",
    "print(raw_file[1].replace(\"\\t\", \" <tab> \"))"
   ],
   "outputs": [
    {
     "name": "stdout",
     "output_type": "stream",
     "text": [
      "id\tpubtime\tmedium_code\tmedium_name\trubric\tregional\tdoctype\tdoctype_description\tlanguage\tchar_count\tdateline\thead\tsubhead\tarticle_link\tcontent_id\tcontent\n",
      "\n",
      "38899273 <tab> 2020-02-10 08:28:00+01 <tab> ZWAO <tab> 20 minuten online <tab>  <tab>  <tab> WWE <tab> Online medium <tab> de <tab> 562 <tab> Singapore Airlines <tab> A380 muss wegen Orkantief durchstarten <tab>  <tab> https://www.20min.ch/schweiz/zuerich/story/24250135 <tab> 00028ac0-46af-cb40-908b-dedebaf3a9ea <tab> <tx><ld><p>Sturmtief Sabine wirbelt den Plan des Flughafen Zürich durcheinander. Ein Video eines Leser-Reporters zeigt den A380, der die Landung abbrechen muss.</p></ld><p>Der A380 der Singapore Airline musste den Landeanflug auf den Flughafen Kloten abbrechen. Beim zweiten Mal hat es geklappt wie ein Video eines Leser-Reporters zeigt.</p><p>Nicht nur der A380-Gigant musste durchstarten. Wie ein Leser-Reporter berichtet, traf es auch eine A330-300 der Swiss. Der Flieger kam von Tel Aviv.<br/><br/></p><p>(fss)</p></tx>\n",
      "\n"
     ]
    }
   ],
   "execution_count": 3
  },
  {
   "cell_type": "code",
   "metadata": {
    "ExecuteTime": {
     "end_time": "2024-10-16T14:39:23.961054Z",
     "start_time": "2024-10-16T14:39:22.678961Z"
    }
   },
   "source": [
    "df = pd.read_csv(os.path.join(raw_data_path, raw_file_name), sep=\"\\t\")\n",
    "print(df.shape)\n",
    "print(df.head(1).transpose())"
   ],
   "outputs": [
    {
     "name": "stdout",
     "output_type": "stream",
     "text": [
      "(23555, 16)\n",
      "                                                                     0\n",
      "id                                                            38899273\n",
      "pubtime                                         2020-02-10 08:28:00+01\n",
      "medium_code                                                       ZWAO\n",
      "medium_name                                          20 minuten online\n",
      "rubric                                                             NaN\n",
      "regional                                                           NaN\n",
      "doctype                                                            WWE\n",
      "doctype_description                                      Online medium\n",
      "language                                                            de\n",
      "char_count                                                         562\n",
      "dateline                                            Singapore Airlines\n",
      "head                            A380 muss wegen Orkantief durchstarten\n",
      "subhead                                                            NaN\n",
      "article_link         https://www.20min.ch/schweiz/zuerich/story/242...\n",
      "content_id                        00028ac0-46af-cb40-908b-dedebaf3a9ea\n",
      "content              <tx><ld><p>Sturmtief Sabine wirbelt den Plan d...\n"
     ]
    }
   ],
   "execution_count": 4
  },
  {
   "cell_type": "code",
   "metadata": {
    "ExecuteTime": {
     "end_time": "2024-10-16T14:39:26.008042Z",
     "start_time": "2024-10-16T14:39:25.977988Z"
    }
   },
   "source": [
    "print(df.info())"
   ],
   "outputs": [
    {
     "name": "stdout",
     "output_type": "stream",
     "text": [
      "<class 'pandas.core.frame.DataFrame'>\n",
      "RangeIndex: 23555 entries, 0 to 23554\n",
      "Data columns (total 16 columns):\n",
      " #   Column               Non-Null Count  Dtype  \n",
      "---  ------               --------------  -----  \n",
      " 0   id                   23555 non-null  int64  \n",
      " 1   pubtime              23555 non-null  object \n",
      " 2   medium_code          23555 non-null  object \n",
      " 3   medium_name          23555 non-null  object \n",
      " 4   rubric               0 non-null      float64\n",
      " 5   regional             0 non-null      float64\n",
      " 6   doctype              23555 non-null  object \n",
      " 7   doctype_description  23555 non-null  object \n",
      " 8   language             23555 non-null  object \n",
      " 9   char_count           23555 non-null  int64  \n",
      " 10  dateline             23267 non-null  object \n",
      " 11  head                 23555 non-null  object \n",
      " 12  subhead              0 non-null      float64\n",
      " 13  article_link         23554 non-null  object \n",
      " 14  content_id           23555 non-null  object \n",
      " 15  content              23555 non-null  object \n",
      "dtypes: float64(3), int64(2), object(11)\n",
      "memory usage: 2.9+ MB\n",
      "None\n"
     ]
    }
   ],
   "execution_count": 5
  },
  {
   "cell_type": "code",
   "metadata": {
    "ExecuteTime": {
     "end_time": "2024-10-16T14:39:31.305975Z",
     "start_time": "2024-10-16T14:39:31.291980Z"
    }
   },
   "source": [
    "drop_nan_columns = [\"rubric\", \"regional\", \"subhead\"]\n",
    "df = df.drop(drop_nan_columns, axis=1)\n",
    "df.shape"
   ],
   "outputs": [
    {
     "data": {
      "text/plain": [
       "(23555, 13)"
      ]
     },
     "execution_count": 6,
     "metadata": {},
     "output_type": "execute_result"
    }
   ],
   "execution_count": 6
  },
  {
   "cell_type": "code",
   "metadata": {
    "ExecuteTime": {
     "end_time": "2024-10-16T14:39:33.458392Z",
     "start_time": "2024-10-16T14:39:33.439174Z"
    }
   },
   "source": "print(df.info())",
   "outputs": [
    {
     "name": "stdout",
     "output_type": "stream",
     "text": [
      "<class 'pandas.core.frame.DataFrame'>\n",
      "RangeIndex: 23555 entries, 0 to 23554\n",
      "Data columns (total 13 columns):\n",
      " #   Column               Non-Null Count  Dtype \n",
      "---  ------               --------------  ----- \n",
      " 0   id                   23555 non-null  int64 \n",
      " 1   pubtime              23555 non-null  object\n",
      " 2   medium_code          23555 non-null  object\n",
      " 3   medium_name          23555 non-null  object\n",
      " 4   doctype              23555 non-null  object\n",
      " 5   doctype_description  23555 non-null  object\n",
      " 6   language             23555 non-null  object\n",
      " 7   char_count           23555 non-null  int64 \n",
      " 8   dateline             23267 non-null  object\n",
      " 9   head                 23555 non-null  object\n",
      " 10  article_link         23554 non-null  object\n",
      " 11  content_id           23555 non-null  object\n",
      " 12  content              23555 non-null  object\n",
      "dtypes: int64(2), object(11)\n",
      "memory usage: 2.3+ MB\n",
      "None\n"
     ]
    }
   ],
   "execution_count": 7
  },
  {
   "metadata": {},
   "cell_type": "code",
   "outputs": [
    {
     "data": {
      "text/plain": [
       "0        <tx><ld><p>Sturmtief Sabine wirbelt den Plan d...\n",
       "1        <tx><ld><p>Les voisins chanteurs de la rotonde...\n",
       "2        <tx><ld><p>Der Kanton Aargau führt im Kampf ge...\n",
       "3        <tx><ld><p>Inmitten der anderen Automobile der...\n",
       "4        <tx><ld><p>Le ministre de la santé Olivier Vér...\n",
       "                               ...                        \n",
       "23550    <tx><ld><p>La collecte de sapins de Noël a été...\n",
       "23551    <tx><ld><p>Un porte-parole du Département fédé...\n",
       "23552    <tx><ld><p>L'incendie d'un véhicule s'est prop...\n",
       "23553    <tx><ld><p>Comme l'épidémie de Covid-19 se pou...\n",
       "23554    <tx><ld><p>Tandis que certains ont critiqué le...\n",
       "Name: content, Length: 23555, dtype: object"
      ]
     },
     "execution_count": 8,
     "metadata": {},
     "output_type": "execute_result"
    }
   ],
   "execution_count": 8,
   "source": "df['content']"
  }
 ],
 "metadata": {
  "kernelspec": {
   "display_name": "Python 3",
   "language": "python",
   "name": "python3"
  },
  "language_info": {
   "codemirror_mode": {
    "name": "ipython",
    "version": 3
   },
   "file_extension": ".py",
   "mimetype": "text/x-python",
   "name": "python",
   "nbconvert_exporter": "python",
   "pygments_lexer": "ipython3",
   "version": "3.12.6"
  }
 },
 "nbformat": 4,
 "nbformat_minor": 2
}
