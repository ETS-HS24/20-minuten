{
 "cells": [
  {
   "cell_type": "code",
   "metadata": {
    "ExecuteTime": {
     "end_time": "2024-10-14T12:00:13.364501Z",
     "start_time": "2024-10-14T12:00:12.670331Z"
    }
   },
   "source": "from Swissdox import SwissdoxAPI, SwissdoxDataset",
   "outputs": [],
   "execution_count": 1
  },
  {
   "cell_type": "code",
   "metadata": {
    "ExecuteTime": {
     "end_time": "2024-10-14T12:00:44.247591Z",
     "start_time": "2024-10-14T12:00:36.813649Z"
    }
   },
   "source": [
    "sd = SwissdoxAPI()\n",
    "sd.set_api_credentials()\n",
    "sd.get_status()\n",
    "\n",
    "ds = SwissdoxDataset(dataset_name=\"20min-test-query-2020-jan-jun\")\n",
    "ds.initialize_from_api(sd, \"../data\")\n",
    "\n",
    "sd.download_dataset(ds, overwrite=False)"
   ],
   "outputs": [],
   "execution_count": 2
  }
 ],
 "metadata": {
  "kernelspec": {
   "display_name": "Python 3",
   "language": "python",
   "name": "python3"
  },
  "language_info": {
   "codemirror_mode": {
    "name": "ipython",
    "version": 3
   },
   "file_extension": ".py",
   "mimetype": "text/x-python",
   "name": "python",
   "nbconvert_exporter": "python",
   "pygments_lexer": "ipython3",
   "version": "3.12.6"
  }
 },
 "nbformat": 4,
 "nbformat_minor": 2
}
