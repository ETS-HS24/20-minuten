{
 "cells": [
  {
   "cell_type": "code",
   "execution_count": 2,
   "metadata": {},
   "outputs": [],
   "source": [
    "from Swissdox.Swissdox import SwissdoxAPI, SwissdoxDataset"
   ]
  },
  {
   "cell_type": "code",
   "metadata": {
    "ExecuteTime": {
     "end_time": "2024-10-13T10:22:38.831938Z",
     "start_time": "2024-10-13T10:22:38.185985Z"
    }
   },
   "source": [
    "sd = SwissdoxAPI()\n",
    "sd.set_api_credentials()\n",
    "sd.get_status()\n",
    "\n",
    "ds = SwissdoxDataset(dataset_name=\"2024-09-13 15:29 Test-Load-inspect dataset.yaml\")\n",
    "ds.initialize_from_api(sd, \"../data\")\n",
    "\n",
    "sd.download_dataset(ds, overwrite=False)"
   ],
   "outputs": [
    {
     "ename": "AssertionError",
     "evalue": "Could not find {'small-test-query': {'id': 'fcbb603f-b0a8-45a0-bc5d-3889b28d05f3', 'yaml': 'query:\\n  sources:\\n    - ZWAO\\n    - ZWSO\\n  dates:\\n    - from: 2020-01-01\\n      to: 2020-01-30\\nresult:\\n  format: TSV\\n  maxResults: 10000000\\n  columns:\\n    - id\\n    - pubtime\\n    - medium_code\\n    - medium_name\\n    - rubric\\n    - regional\\n    - doctype\\n    - doctype_description\\n    - language\\n    - char_count\\n    - dateline\\n    - head\\n    - subhead\\n    - content_id\\n    - content\\nversion: 1.2\\n', 'name': 'small-test-query', 'comment': 'test', 'estimateResults': 384, 'actualResults': 5556, 'addedOn': '2024-09-21T16:30:46.484706', 'canceledOn': None, 'status': 'finished', 'startedOn': '2024-09-21T16:30:46.669102', 'finishedOn': '2024-09-21T16:31:03.098028', 'error': None, 'downloadUrl': None, 'isAPI': True}, '2024-09-13 15:29 Test-Load-inspect dataset': {'id': '6016265a-9a90-46b5-a732-ce6ba7e87340', 'yaml': 'query:\\n  sources:\\n    - ZWAO\\n    - ZWSO\\n  dates:\\n    - from: 2020-01-01\\n      to: 2020-06-30\\nresult:\\n  format: TSV\\n  maxResults: 10000000\\n  columns:\\n    - id\\n    - pubtime\\n    - medium_code\\n    - medium_name\\n    - rubric\\n    - regional\\n    - doctype\\n    - doctype_description\\n    - language\\n    - char_count\\n    - dateline\\n    - head\\n    - subhead\\n    - article_link\\n    - content_id\\n    - content\\nversion: 1.2\\n', 'name': '2024-09-13 15:29 Test-Load-inspect dataset', 'comment': 'This initial load is to inspect the dataset and evaluate if we can fulfill our task.', 'estimateResults': 3735, 'actualResults': 23555, 'addedOn': '2024-09-13T15:30:40.019027', 'canceledOn': None, 'status': 'finished', 'startedOn': '2024-09-13T15:30:40.252180', 'finishedOn': '2024-09-13T15:31:56.174395', 'error': None, 'downloadUrl': 'https://swissdox.linguistik.uzh.ch/api/download/6016265a-9a90-46b5-a732-ce6ba7e87340__2024_09_13T15_30_40.tsv.xz', 'isAPI': False}} in your account. Alternatives: dict_keys(['small-test-query', '2024-09-13 15:29 Test-Load-inspect dataset'])",
     "output_type": "error",
     "traceback": [
      "\u001B[1;31m---------------------------------------------------------------------------\u001B[0m",
      "\u001B[1;31mAssertionError\u001B[0m                            Traceback (most recent call last)",
      "Cell \u001B[1;32mIn[4], line 6\u001B[0m\n\u001B[0;32m      3\u001B[0m sd\u001B[38;5;241m.\u001B[39mget_status()\n\u001B[0;32m      5\u001B[0m ds \u001B[38;5;241m=\u001B[39m SwissdoxDataset(dataset_name\u001B[38;5;241m=\u001B[39m\u001B[38;5;124m\"\u001B[39m\u001B[38;5;124m2024-09-13 15:29 Test-Load-inspect dataset.yaml\u001B[39m\u001B[38;5;124m\"\u001B[39m)\n\u001B[1;32m----> 6\u001B[0m ds\u001B[38;5;241m.\u001B[39minitialize_from_api(sd, \u001B[38;5;124m\"\u001B[39m\u001B[38;5;124m../data\u001B[39m\u001B[38;5;124m\"\u001B[39m)\n\u001B[0;32m      8\u001B[0m sd\u001B[38;5;241m.\u001B[39mdownload_dataset(ds, overwrite\u001B[38;5;241m=\u001B[39m\u001B[38;5;28;01mFalse\u001B[39;00m)\n",
      "File \u001B[1;32m~\\Documents\\Uni Zürich\\Essentials in Text and Speech Processing\\Project\\20-minuten\\Swissdox\\Swissdox.py:129\u001B[0m, in \u001B[0;36mSwissdoxDataset.initialize_from_api\u001B[1;34m(self, api_client, data_root_folder)\u001B[0m\n\u001B[0;32m    127\u001B[0m \u001B[38;5;28;01mdef\u001B[39;00m \u001B[38;5;21minitialize_from_api\u001B[39m(\u001B[38;5;28mself\u001B[39m, api_client, data_root_folder):\n\u001B[0;32m    128\u001B[0m     \u001B[38;5;28;01massert\u001B[39;00m api_client\u001B[38;5;241m.\u001B[39mdatasets, \u001B[38;5;124mf\u001B[39m\u001B[38;5;124m\"\u001B[39m\u001B[38;5;124mDatasets are not loaded in the client. Do that first.\u001B[39m\u001B[38;5;124m\"\u001B[39m\n\u001B[1;32m--> 129\u001B[0m     \u001B[38;5;28;01massert\u001B[39;00m \u001B[38;5;28mself\u001B[39m\u001B[38;5;241m.\u001B[39mdataset_name \u001B[38;5;129;01min\u001B[39;00m api_client\u001B[38;5;241m.\u001B[39mdatasets, \u001B[38;5;124mf\u001B[39m\u001B[38;5;124m\"\u001B[39m\u001B[38;5;124mCould not find \u001B[39m\u001B[38;5;132;01m{\u001B[39;00mapi_client\u001B[38;5;241m.\u001B[39mdatasets\u001B[38;5;132;01m}\u001B[39;00m\u001B[38;5;124m in your account. Alternatives: \u001B[39m\u001B[38;5;132;01m{\u001B[39;00mapi_client\u001B[38;5;241m.\u001B[39mdatasets\u001B[38;5;241m.\u001B[39mkeys()\u001B[38;5;132;01m}\u001B[39;00m\u001B[38;5;124m\"\u001B[39m\n\u001B[0;32m    131\u001B[0m     query_string \u001B[38;5;241m=\u001B[39m api_client\u001B[38;5;241m.\u001B[39mdatasets[\u001B[38;5;28mself\u001B[39m\u001B[38;5;241m.\u001B[39mdataset_name][\u001B[38;5;124m\"\u001B[39m\u001B[38;5;124myaml\u001B[39m\u001B[38;5;124m\"\u001B[39m]\n\u001B[0;32m    132\u001B[0m     \u001B[38;5;28mself\u001B[39m\u001B[38;5;241m.\u001B[39minitialize_dataset(data_root_folder, query_string\u001B[38;5;241m=\u001B[39mquery_string)\n",
      "\u001B[1;31mAssertionError\u001B[0m: Could not find {'small-test-query': {'id': 'fcbb603f-b0a8-45a0-bc5d-3889b28d05f3', 'yaml': 'query:\\n  sources:\\n    - ZWAO\\n    - ZWSO\\n  dates:\\n    - from: 2020-01-01\\n      to: 2020-01-30\\nresult:\\n  format: TSV\\n  maxResults: 10000000\\n  columns:\\n    - id\\n    - pubtime\\n    - medium_code\\n    - medium_name\\n    - rubric\\n    - regional\\n    - doctype\\n    - doctype_description\\n    - language\\n    - char_count\\n    - dateline\\n    - head\\n    - subhead\\n    - content_id\\n    - content\\nversion: 1.2\\n', 'name': 'small-test-query', 'comment': 'test', 'estimateResults': 384, 'actualResults': 5556, 'addedOn': '2024-09-21T16:30:46.484706', 'canceledOn': None, 'status': 'finished', 'startedOn': '2024-09-21T16:30:46.669102', 'finishedOn': '2024-09-21T16:31:03.098028', 'error': None, 'downloadUrl': None, 'isAPI': True}, '2024-09-13 15:29 Test-Load-inspect dataset': {'id': '6016265a-9a90-46b5-a732-ce6ba7e87340', 'yaml': 'query:\\n  sources:\\n    - ZWAO\\n    - ZWSO\\n  dates:\\n    - from: 2020-01-01\\n      to: 2020-06-30\\nresult:\\n  format: TSV\\n  maxResults: 10000000\\n  columns:\\n    - id\\n    - pubtime\\n    - medium_code\\n    - medium_name\\n    - rubric\\n    - regional\\n    - doctype\\n    - doctype_description\\n    - language\\n    - char_count\\n    - dateline\\n    - head\\n    - subhead\\n    - article_link\\n    - content_id\\n    - content\\nversion: 1.2\\n', 'name': '2024-09-13 15:29 Test-Load-inspect dataset', 'comment': 'This initial load is to inspect the dataset and evaluate if we can fulfill our task.', 'estimateResults': 3735, 'actualResults': 23555, 'addedOn': '2024-09-13T15:30:40.019027', 'canceledOn': None, 'status': 'finished', 'startedOn': '2024-09-13T15:30:40.252180', 'finishedOn': '2024-09-13T15:31:56.174395', 'error': None, 'downloadUrl': 'https://swissdox.linguistik.uzh.ch/api/download/6016265a-9a90-46b5-a732-ce6ba7e87340__2024_09_13T15_30_40.tsv.xz', 'isAPI': False}} in your account. Alternatives: dict_keys(['small-test-query', '2024-09-13 15:29 Test-Load-inspect dataset'])"
     ]
    }
   ],
   "execution_count": 4
  }
 ],
 "metadata": {
  "kernelspec": {
   "display_name": "Python 3",
   "language": "python",
   "name": "python3"
  },
  "language_info": {
   "codemirror_mode": {
    "name": "ipython",
    "version": 3
   },
   "file_extension": ".py",
   "mimetype": "text/x-python",
   "name": "python",
   "nbconvert_exporter": "python",
   "pygments_lexer": "ipython3",
   "version": "3.12.6"
  }
 },
 "nbformat": 4,
 "nbformat_minor": 2
}
