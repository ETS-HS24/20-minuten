{
 "cells": [
  {
   "cell_type": "code",
   "execution_count": 2,
   "metadata": {},
   "outputs": [],
   "source": [
    "from Swissdox.Swissdox import SwissdoxAPI, SwissdoxDataset"
   ]
  },
  {
   "cell_type": "code",
   "execution_count": 5,
   "metadata": {},
   "outputs": [],
   "source": [
    "sd = SwissdoxAPI()\n",
    "sd.set_api_credentials()\n",
    "sd.get_status()\n",
    "\n",
    "ds = SwissdoxDataset(dataset_name=\"2024-09-13 15:29 Test-Load-inspect dataset\")\n",
    "ds.initialize_from_api(sd, \"../data\")\n",
    "\n",
    "sd.download_dataset(ds, overwrite=False)"
   ]
  }
 ],
 "metadata": {
  "kernelspec": {
   "display_name": "Python 3",
   "language": "python",
   "name": "python3"
  },
  "language_info": {
   "codemirror_mode": {
    "name": "ipython",
    "version": 3
   },
   "file_extension": ".py",
   "mimetype": "text/x-python",
   "name": "python",
   "nbconvert_exporter": "python",
   "pygments_lexer": "ipython3",
   "version": "3.12.6"
  }
 },
 "nbformat": 4,
 "nbformat_minor": 2
}
